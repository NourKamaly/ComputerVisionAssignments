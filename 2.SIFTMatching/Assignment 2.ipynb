{
 "cells": [
  {
   "cell_type": "code",
   "execution_count": 1,
   "id": "7828cab7",
   "metadata": {},
   "outputs": [],
   "source": [
    "import cv2\n",
    "import os\n",
    "import numpy as np\n",
    "import matplotlib.pyplot as plt"
   ]
  },
  {
   "cell_type": "code",
   "execution_count": 2,
   "id": "035bb26a",
   "metadata": {},
   "outputs": [],
   "source": [
    "directory = \"Data\"\n",
    "pairs = [['image1a.jpeg','image1b.jpeg'],['image2a.jpeg','image2b.jpeg'],['image3a.jpeg','image3b.jpeg'],['image4a.jpeg','image4b.jpeg','image4c.jpeg'],\n",
    "         ['image5a.jpeg','image5b.jpeg'], ['image6a.jpeg','image6b.jpeg'],['image7a.jpeg','image7b.jpeg']]"
   ]
  },
  {
   "cell_type": "code",
   "execution_count": 3,
   "id": "98b85395",
   "metadata": {},
   "outputs": [],
   "source": [
    "def getSIFTKpsAndDecriptors(image):\n",
    "    SIFTMatcher = cv2.SIFT_create()\n",
    "    (keypoints, descriptors) = SIFTMatcher.detectAndCompute(image,None)\n",
    "    #keypoints = np.float32([keypoints.pt for keypoint in keypoints])\n",
    "    return keypoints, descriptors"
   ]
  },
  {
   "cell_type": "code",
   "execution_count": 4,
   "id": "e94a3200",
   "metadata": {},
   "outputs": [],
   "source": [
    "def getMatches(descriptors1, descriptors2):\n",
    "    bruteForceMatcher = cv2.BFMatcher()\n",
    "    matches = bruteForceMatcher.knnMatch(descriptors1,descriptors2,2)\n",
    "    return matches"
   ]
  },
  {
   "cell_type": "code",
   "execution_count": 5,
   "id": "da4d3b90",
   "metadata": {},
   "outputs": [],
   "source": [
    "def getDavidLoweRatioMatches(matches,davidLoweRatio):\n",
    "    DLmatches =[]\n",
    "    for match in matches:\n",
    "        if(match[0].distance/match[1].distance < davidLoweRatio):\n",
    "                DLmatches.append(match[0])\n",
    "    return DLmatches"
   ]
  },
  {
   "cell_type": "code",
   "execution_count": 6,
   "id": "8e9172ea",
   "metadata": {},
   "outputs": [],
   "source": [
    "def getDistancesArray(matches):\n",
    "    distanceArray = []\n",
    "    for match in matches:\n",
    "        distanceArray.append(match.distance)\n",
    "    return np.array(distanceArray)"
   ]
  },
  {
   "cell_type": "code",
   "execution_count": 7,
   "id": "85c83757",
   "metadata": {},
   "outputs": [],
   "source": [
    "def getInterQuartileRange(distances):\n",
    "    firstQuartile = np.percentile(distances,25)\n",
    "    thirdQuartile = np.percentile(distances,75)\n",
    "    interQuartileRange = thirdQuartile - firstQuartile\n",
    "    return interQuartileRange"
   ]
  },
  {
   "cell_type": "code",
   "execution_count": 8,
   "id": "04fe3ebb",
   "metadata": {},
   "outputs": [],
   "source": [
    "def filterMatchesUsingIQR(interQuartileRange, DLmatches):\n",
    "    IQRMatches = []\n",
    "    for match in DLmatches:\n",
    "        if (match.distance < interQuartileRange):\n",
    "            IQRMatches.append(match)\n",
    "    return IQRMatches"
   ]
  },
  {
   "cell_type": "code",
   "execution_count": null,
   "id": "60021e72",
   "metadata": {},
   "outputs": [],
   "source": []
  },
  {
   "cell_type": "code",
   "execution_count": 12,
   "id": "141bf266",
   "metadata": {},
   "outputs": [],
   "source": [
    "def run(leftPairDirectory,rightPairDirectory):\n",
    "    leftPair = cv2.imread(os.path.join(directory,leftPairDirectory),cv2.IMREAD_GRAYSCALE)\n",
    "    rightPair = cv2.imread(os.path.join(directory,rightPairDirectory),cv2.IMREAD_GRAYSCALE)\n",
    "    leftPair = cv2.resize(leftPair,(500,500))\n",
    "    rightPair = cv2.resize(rightPair,(500,500))\n",
    "    keyPointsLeft, descriptorsLeft = getSIFTKpsAndDecriptors(leftPair)\n",
    "    keyPointsRight, descriptorsRight = getSIFTKpsAndDecriptors(rightPair)\n",
    "    matches = getMatches(descriptorsLeft, descriptorsRight)\n",
    "    DLmatches = getDavidLoweRatioMatches(matches,0.8)\n",
    "    distances = getDistancesArray(DLmatches)\n",
    "    IQR = getInterQuartileRange(distances)\n",
    "    IQRMatches = filterMatchesUsingIQR(IQR, DLmatches)\n",
    "    vis = cv2.drawMatches(leftPair,keyPointsLeft,rightPair,keyPointsRight,IQRMatches,outImg = None,matchesThickness=2)\n",
    "    cv2.imshow(\"img\",vis)\n",
    "    cv2.waitKey(0)\n",
    "    cv2.destroyAllWindows()"
   ]
  },
  {
   "cell_type": "code",
   "execution_count": 13,
   "id": "1aaa7b59",
   "metadata": {},
   "outputs": [],
   "source": [
    "run(pairs[0][0],pairs[0][1])"
   ]
  }
 ],
 "metadata": {
  "kernelspec": {
   "display_name": "Python 3 (ipykernel)",
   "language": "python",
   "name": "python3"
  },
  "language_info": {
   "codemirror_mode": {
    "name": "ipython",
    "version": 3
   },
   "file_extension": ".py",
   "mimetype": "text/x-python",
   "name": "python",
   "nbconvert_exporter": "python",
   "pygments_lexer": "ipython3",
   "version": "3.9.7"
  }
 },
 "nbformat": 4,
 "nbformat_minor": 5
}
