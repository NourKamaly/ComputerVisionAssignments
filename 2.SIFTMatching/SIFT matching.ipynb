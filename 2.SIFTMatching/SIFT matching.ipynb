{
 "cells": [
  {
   "cell_type": "code",
   "execution_count": 1,
   "id": "7828cab7",
   "metadata": {},
   "outputs": [],
   "source": [
    "import cv2\n",
    "import os\n",
    "import numpy as np\n",
    "import matplotlib.pyplot as plt\n",
    "import statistics"
   ]
  },
  {
   "cell_type": "code",
   "execution_count": 2,
   "id": "035bb26a",
   "metadata": {},
   "outputs": [],
   "source": [
    "directory = \"Data\"\n",
    "pairs = [['image1a.jpeg','image1b.jpeg'],['image2a.jpeg','image2b.jpeg'],['image3a.jpeg','image3b.jpeg'],['image4a.jpeg','image4b.jpeg','image4c.png'],\n",
    "         ['image5a.jpeg','image5b.jpeg'], ['image6a.jpeg','image6b.jpeg'],['image7a.jpeg','image7b.jpeg']]"
   ]
  },
  {
   "cell_type": "code",
   "execution_count": 3,
   "id": "98b85395",
   "metadata": {},
   "outputs": [],
   "source": [
    "def getSIFTKpsAndDecriptors(image):\n",
    "    SIFTMatcher = cv2.SIFT_create()\n",
    "    (keypoints, descriptors) = SIFTMatcher.detectAndCompute(image,None)\n",
    "    #keypoints = np.float32([keypoints.pt for keypoint in keypoints])\n",
    "    return keypoints, descriptors"
   ]
  },
  {
   "cell_type": "code",
   "execution_count": 4,
   "id": "e94a3200",
   "metadata": {},
   "outputs": [],
   "source": [
    "def getMatches(descriptors1, descriptors2):\n",
    "    bruteForceMatcher = cv2.BFMatcher()\n",
    "    matches = bruteForceMatcher.knnMatch(descriptors1,descriptors2,2)\n",
    "    return matches"
   ]
  },
  {
   "cell_type": "code",
   "execution_count": 5,
   "id": "da4d3b90",
   "metadata": {},
   "outputs": [],
   "source": [
    "def getDavidLoweRatioMatches(matches,davidLoweRatio):\n",
    "    DLmatches =[]\n",
    "    for match in matches:\n",
    "        if(match[0].distance/match[1].distance < davidLoweRatio):\n",
    "                DLmatches.append(match[0])\n",
    "    return DLmatches"
   ]
  },
  {
   "cell_type": "code",
   "execution_count": 6,
   "id": "8e9172ea",
   "metadata": {},
   "outputs": [],
   "source": [
    "def getDistancesArray(matches):\n",
    "    distanceArray = []\n",
    "    for match in matches:\n",
    "        distanceArray.append(match.distance)\n",
    "    return np.array(distanceArray)"
   ]
  },
  {
   "cell_type": "code",
   "execution_count": 7,
   "id": "f6d3cd8d",
   "metadata": {},
   "outputs": [],
   "source": [
    "def getInterQuartileRange(distances):\n",
    "    firstQuartile = np.percentile(distances,25)\n",
    "    thirdQuartile = np.percentile(distances,75)\n",
    "    interQuartileRange = thirdQuartile - firstQuartile\n",
    "    return interQuartileRange"
   ]
  },
  {
   "cell_type": "code",
   "execution_count": 8,
   "id": "97d8aa28",
   "metadata": {},
   "outputs": [],
   "source": [
    "def filterMatchesUsingIQR(interQuartileRange, DLmatches):\n",
    "    IQRMatches = []\n",
    "    for match in DLmatches:\n",
    "        if (match.distance < interQuartileRange):\n",
    "            IQRMatches.append(match)\n",
    "    return IQRMatches"
   ]
  },
  {
   "cell_type": "code",
   "execution_count": 9,
   "id": "e13e66ed",
   "metadata": {},
   "outputs": [],
   "source": [
    "def filterMatchesUsingMedian(DLmatches):\n",
    "    medianMatches = []\n",
    "    distances = getDistancesArray(DLmatches)\n",
    "    median = statistics.median(distances)\n",
    "    for match in DLmatches:\n",
    "         if (match.distance < median):\n",
    "                medianMatches.append(match)\n",
    "    return medianMatches"
   ]
  },
  {
   "cell_type": "code",
   "execution_count": 10,
   "id": "70ec2e6b",
   "metadata": {},
   "outputs": [],
   "source": [
    "def calculateSimilarity(matches, keyPointsLeft,keyPointsRight):\n",
    "    similarity = len(matches)/min(len(keyPointsLeft),len(keyPointsRight))\n",
    "    return similarity"
   ]
  },
  {
   "cell_type": "code",
   "execution_count": 11,
   "id": "c8896a39",
   "metadata": {},
   "outputs": [],
   "source": [
    "def run(leftPairDirectory,rightPairDirectory, useMedian = False,useIQR = False):\n",
    "    leftPair = cv2.imread(os.path.join(directory,leftPairDirectory),cv2.IMREAD_GRAYSCALE)\n",
    "    rightPair = cv2.imread(os.path.join(directory,rightPairDirectory),cv2.IMREAD_GRAYSCALE)\n",
    "    leftPair = cv2.resize(leftPair,(500,500))\n",
    "    rightPair = cv2.resize(rightPair,(500,500))\n",
    "    keyPointsLeft, descriptorsLeft = getSIFTKpsAndDecriptors(leftPair)\n",
    "    keyPointsRight, descriptorsRight = getSIFTKpsAndDecriptors(rightPair)\n",
    "    matches = getMatches(descriptorsLeft, descriptorsRight)\n",
    "    DLmatches = getDavidLoweRatioMatches(matches,0.8)\n",
    "    if useMedian == True:\n",
    "        drawnMatches = filterMatchesUsingMedian(DLmatches)\n",
    "    else: \n",
    "        distances = getDistancesArray(DLmatches)\n",
    "        IQR = getInterQuartileRange(distances)\n",
    "        drawnMatches = filterMatchesUsingIQR(IQR, DLmatches)\n",
    "    vis = cv2.drawMatches(leftPair,keyPointsLeft,rightPair,keyPointsRight,drawnMatches,outImg = None,matchesThickness=2)\n",
    "    cv2.imshow(\"img\",vis)\n",
    "    cv2.waitKey(0)\n",
    "    cv2.destroyAllWindows()\n",
    "    similarity = calculateSimilarity(drawnMatches, keyPointsLeft,keyPointsRight)\n",
    "    print(\"The similarity is equal {0}\".format(similarity))\n",
    "    if (similarity > 0.01):\n",
    "        print(\"They are similar\")\n",
    "    else :\n",
    "        print(\"they are not similar\")"
   ]
  },
  {
   "cell_type": "code",
   "execution_count": 12,
   "id": "9e4c3a32",
   "metadata": {},
   "outputs": [
    {
     "name": "stdout",
     "output_type": "stream",
     "text": [
      "The similarity is equal 0.1052132701421801\n",
      "They are similar\n",
      "The similarity is equal 0.17734553775743708\n",
      "They are similar\n",
      "The similarity is equal 0.02113821138211382\n",
      "They are similar\n",
      "The similarity is equal 0.2798165137614679\n",
      "They are similar\n",
      "The similarity is equal 0.02671118530884808\n",
      "They are similar\n",
      "The similarity is equal 0.029459901800327332\n",
      "They are similar\n",
      "The similarity is equal 0.02943454686289698\n",
      "They are similar\n"
     ]
    }
   ],
   "source": [
    "for pair in pairs:\n",
    "    run(pair[0],pair[1],useMedian= True)"
   ]
  },
  {
   "cell_type": "code",
   "execution_count": 13,
   "id": "69955411",
   "metadata": {},
   "outputs": [
    {
     "name": "stdout",
     "output_type": "stream",
     "text": [
      "The similarity is equal 0.10321100917431193\n",
      "They are similar\n"
     ]
    }
   ],
   "source": [
    "run(pairs[3][1],pairs[3][2],useMedian= True)"
   ]
  },
  {
   "cell_type": "code",
   "execution_count": 14,
   "id": "ce9fb732",
   "metadata": {},
   "outputs": [
    {
     "name": "stdout",
     "output_type": "stream",
     "text": [
      "The similarity is equal 0.12424849699398798\n",
      "They are similar\n"
     ]
    }
   ],
   "source": [
    "run(pairs[3][0],pairs[3][2],useMedian= True)"
   ]
  }
 ],
 "metadata": {
  "kernelspec": {
   "display_name": "Python 3.9.7 ('MachineLearningCourse')",
   "language": "python",
   "name": "python3"
  },
  "language_info": {
   "codemirror_mode": {
    "name": "ipython",
    "version": 3
   },
   "file_extension": ".py",
   "mimetype": "text/x-python",
   "name": "python",
   "nbconvert_exporter": "python",
   "pygments_lexer": "ipython3",
   "version": "3.9.7"
  },
  "vscode": {
   "interpreter": {
    "hash": "98cbb155e88162c362a1507947084b1bfaa5d6726fb70a737b6767cdcee875c4"
   }
  }
 },
 "nbformat": 4,
 "nbformat_minor": 5
}
